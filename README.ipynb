{
 "cells": [
  {
   "cell_type": "markdown",
   "metadata": {},
   "source": [
    "# alshidata\n",
    "\n",
    "The `alshidata` package is a set of tools put together by The Data Team @ [Alshival's Data Service](alshival.com).\n",
    "\n",
    "## Google Cloud Platform (GCP): Logger\n",
    "If you are using Google Cloud Platform to host virutal machines which are running your python code, you may want logs to appear on the GCP's **Logs Explorer**.\n",
    "![Logger Demo](meta/logger_demo.png)\n",
    "\n",
    "Our logger is meant to behave similarly to the `logging` package, not serve as a sophisticated substitite. More work could be done to build out GCP's logger. \n",
    "\n",
    "To set this up, [Google provides some documentation](https://cloud.google.com/logging/docs/write-query-log-entries-python#getting_started). You will have to create a service account in your project, create a key file, then define the system variable \n",
    "\n",
    "```.bashrc\n",
    "EXPORT GOOGLE_APPLICATION_CREDENTIALS=\"/path/to/credentials.json\"`\n",
    "```\n",
    "\n",
    "Or you can set the variable temporarily in your script:"
   ]
  },
  {
   "cell_type": "code",
   "execution_count": 1,
   "metadata": {},
   "outputs": [],
   "source": [
    "import os\n",
    "\n",
    "os.environ['GOOGLE_APPLICATION_CREDENTIALS'] = \"path/to/credentials.json\""
   ]
  },
  {
   "cell_type": "markdown",
   "metadata": {},
   "source": [
    "To start tracking logs, simply add `from alshidata.google import Logger`, and use the `logging` package as you always would."
   ]
  },
  {
   "cell_type": "code",
   "execution_count": 3,
   "metadata": {},
   "outputs": [],
   "source": [
    "from alshidata.google import Logger \n",
    "import logging \n",
    "\n",
    "logging.info(\"Testing consolidation approach\")"
   ]
  },
  {
   "cell_type": "markdown",
   "metadata": {},
   "source": [
    "If you check the Log Explorer, you should see the log you just added.\n",
    "\n",
    "![](meta/logger_input_demo.png)"
   ]
  }
 ],
 "metadata": {
  "kernelspec": {
   "display_name": ".env",
   "language": "python",
   "name": "python3"
  },
  "language_info": {
   "codemirror_mode": {
    "name": "ipython",
    "version": 3
   },
   "file_extension": ".py",
   "mimetype": "text/x-python",
   "name": "python",
   "nbconvert_exporter": "python",
   "pygments_lexer": "ipython3",
   "version": "3.12.9"
  }
 },
 "nbformat": 4,
 "nbformat_minor": 2
}
